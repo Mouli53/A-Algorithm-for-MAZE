{
 "cells": [
  {
   "cell_type": "code",
   "execution_count": null,
   "metadata": {
    "id": "bs4oyE5S8lNU"
   },
   "outputs": [],
   "source": [
    "import numpy as np\n",
    "import warnings\n",
    "warnings.filterwarnings('ignore')\n",
    "import matplotlib.pyplot as plt"
   ]
  },
  {
   "cell_type": "code",
   "execution_count": null,
   "metadata": {
    "id": "67etspgIj4E6"
   },
   "outputs": [],
   "source": [
    "class Node:\n",
    "    \"\"\"\n",
    "        parent is parent of the current Node\n",
    "        position is current position of the Node in the maze\n",
    "        g is cost from start to current Node\n",
    "        h is heuristic based estimated cost for current Node to end Node\n",
    "        f is total cost of present node i.e. :  f = g + h\n",
    "    \"\"\"\n",
    "\n",
    "    def __init__(self, parent=None, position=None):\n",
    "        self.parent = parent\n",
    "        self.position = position\n",
    "        self.g = 0\n",
    "        self.h = 0\n",
    "        self.f = 0\n",
    "\n",
    "    def __eq__(self, other):\n",
    "        return self.position == other.position\n",
    "\n",
    "    def euclidean(self, end_node):\n",
    "        dist = (((self.position[0] - end_node.position[0]) ** 2) + \n",
    "                ((self.position[1] - end_node.position[1]) ** 2))\n",
    "        return dist\n",
    "\n",
    "    def manhattan(self, end_node):\n",
    "        dist = (abs(self.position[0] - end_node.position[0])  + \n",
    "                abs(self.position[1] - end_node.position[1]))\n",
    "        return dist\n",
    "\n",
    "def return_path(current_node,maze):\n",
    "    path = []\n",
    "    no_rows, no_columns = np.shape(maze)\n",
    "    result = [[-1 for i in range(no_columns)] for j in range(no_rows)]\n",
    "    current = current_node\n",
    "    while current is not None:\n",
    "        path.append(current.position)\n",
    "        current = current.parent\n",
    "    path = path[::-1]\n",
    "    start_value = 0\n",
    "    for i in range(len(path)):\n",
    "        result[path[i][0]][path[i][1]] = start_value\n",
    "        start_value += 1\n",
    "    return result\n",
    "\n",
    "def A_star(maze, start, end, move, heuristic='euclidean'):\n",
    "    start_node = Node(None, tuple(start))\n",
    "    start_node.g = start_node.h = start_node.f = 0\n",
    "    end_node = Node(None, tuple(end))\n",
    "    end_node.g = end_node.h = end_node.f = 0\n",
    "    yet_to_visit_list = []  \n",
    "    visited_list = [] \n",
    "    yet_to_visit_list.append(start_node)\n",
    "    outer_iterations = 0\n",
    "    max_iterations = (len(maze) // 2) ** 10\n",
    "\n",
    "    \"\"\"\n",
    "        1) We first get the current node by comparing all f cost and selecting the lowest cost node for further expansion\n",
    "        2) Check max iteration reached or not. Set a message and stop execution\n",
    "        3) Remove the selected node from yet_to_visit list and add this node to visited list\n",
    "        4) Perform Goal test and return the path else perform below steps\n",
    "        5) For selected node find out all children (use move to find children)\n",
    "            a) if move is diagonal, then cost = sqrt(2), else cost = 1\n",
    "            b) get the current postion for the selected node (this becomes parent node for the children)\n",
    "            c) check if a valid position exist (boundary will make few nodes invalid)\n",
    "            d) if any node is a wall then ignore that (obstacle)\n",
    "            e) add to valid children node list for the selected parent\n",
    "            \n",
    "            For all the children node\n",
    "                a) if child in visited list then ignore it and try next neighbour node\n",
    "                b) calculate child node g, h and f values\n",
    "                c) if child in yet_to_visit list then ignore it\n",
    "                d) else move the child to yet_to_visit list\n",
    "    \"\"\"\n",
    "    no_rows, no_columns = np.shape(maze)\n",
    "    while len(yet_to_visit_list) > 0:\n",
    "        outer_iterations += 1    \n",
    "        current_node = yet_to_visit_list[0]\n",
    "        current_index = 0\n",
    "        for index, item in enumerate(yet_to_visit_list):\n",
    "            if item.f < current_node.f:\n",
    "                current_node = item\n",
    "                current_index = index\n",
    "        if outer_iterations > max_iterations:\n",
    "            print (\"giving up on pathfinding too many iterations\")\n",
    "            return return_path(current_node,maze)\n",
    "        yet_to_visit_list.pop(current_index)\n",
    "        visited_list.append(current_node)\n",
    "        if current_node == end_node:\n",
    "            return return_path(current_node,maze)\n",
    "        children = []\n",
    "        for new_position in move:\n",
    "            if 0 in new_position:\n",
    "                cost = 1\n",
    "            else:\n",
    "                cost = np.sqrt(2) \n",
    "            node_position = (current_node.position[0] + new_position[0], current_node.position[1] + new_position[1])\n",
    "            if (node_position[0] > (no_rows - 1) or \n",
    "                node_position[0] < 0 or \n",
    "                node_position[1] > (no_columns -1) or \n",
    "                node_position[1] < 0):\n",
    "                continue\n",
    "            if maze[node_position[0]][node_position[1]] != 0:\n",
    "                continue\n",
    "            new_node = Node(current_node, node_position)\n",
    "            children.append(new_node)\n",
    "\n",
    "        for child in children:\n",
    "            if len([visited_child for visited_child in visited_list if visited_child == child]) > 0:\n",
    "                continue\n",
    "            child.g = current_node.g + cost\n",
    "            if heuristic=='manhattan':\n",
    "                child.h = child.manhattan(end_node)\n",
    "            elif heuristic=='euclidean':\n",
    "                child.h = child.euclidean(end_node)\n",
    "            else:\n",
    "                child.h = 0\n",
    "            child.f = child.g + child.h\n",
    "            if len([i for i in yet_to_visit_list if child == i and child.g > i.g]) > 0:\n",
    "                continue\n",
    "            yet_to_visit_list.append(child)"
   ]
  },
  {
   "cell_type": "code",
   "execution_count": null,
   "metadata": {
    "id": "E9b-YR_MCFOF"
   },
   "outputs": [],
   "source": [
    "def plot_path(maze, start, end, path):\n",
    "    if path is None:\n",
    "        print(\"No solution found\") \n",
    "    m,n = len(maze), len(maze[0])\n",
    "    pt = [[0 for j in range(n)] for i in range(m)]\n",
    "    for i in range(m):\n",
    "        for j in range(n):\n",
    "            if path[i][j]!=-1:\n",
    "                if [i,j]==start:\n",
    "                    pt[i][j] = 1\n",
    "                elif [i,j]==end:\n",
    "                    pt[i][j] = 3\n",
    "                else:\n",
    "                    pt[i][j] = 2\n",
    "            if maze[i][j]==1:\n",
    "                pt[i][j] = 4\n",
    "    plt.pcolormesh(pt)\n",
    "    plt.axes().set_aspect('equal') \n",
    "    plt.xticks([]) \n",
    "    plt.yticks([]) \n",
    "    plt.axes().invert_yaxis() \n",
    "    plt.show()\n",
    "\n",
    "def plot_maze(maze, start, end):\n",
    "    m,n = len(maze), len(maze[0])\n",
    "    pt = [[0 for j in range(n)] for i in range(m)]\n",
    "    for i in range(m):\n",
    "        for j in range(n):\n",
    "            if [i,j]==start:\n",
    "                pt[i][j] = 1\n",
    "            elif [i,j]==end:\n",
    "                pt[i][j] = 3\n",
    "            elif maze[i][j]==1:\n",
    "                pt[i][j] = 4\n",
    "    plt.pcolormesh(pt)\n",
    "    plt.axes().set_aspect('equal') \n",
    "    plt.xticks([]) \n",
    "    plt.yticks([]) \n",
    "    plt.axes().invert_yaxis() \n",
    "    plt.show()"
   ]
  },
  {
   "cell_type": "code",
   "execution_count": null,
   "metadata": {
    "id": "sf7v15fr59Pf"
   },
   "outputs": [],
   "source": [
    "maze = [[0, 1, 0, 0, 0, 0],\n",
    "        [0, 0, 0, 0, 0, 0],\n",
    "        [0, 1, 1, 0, 0, 0],\n",
    "        [0, 1, 0, 0, 1, 0],\n",
    "        [0, 0, 0, 0, 0, 0]]    \n",
    "start = [0, 0]\n",
    "end = [3,2] "
   ]
  },
  {
   "cell_type": "code",
   "execution_count": null,
   "metadata": {
    "id": "ZUOqzOF7AWgm"
   },
   "outputs": [],
   "source": [
    "'''\n",
    "Generating all the 8 successor of this cell\n",
    "\n",
    "    N.W   N   N.E\n",
    "      \\   |   /\n",
    "       \\  |  /\n",
    "    W----Cell----E\n",
    "       /  |  \\\n",
    "      /   |   \\\n",
    "    S.W   S   S.E\n",
    "\n",
    "N -->  North       (-1, 0)\n",
    "S -->  South       (1, 0)\n",
    "E -->  East        (0, 1)\n",
    "W -->  West        (0, -1)\n",
    "N.E--> North-East  (-1, 1)\n",
    "N.W--> North-West  (-1, -1)\n",
    "S.E--> South-East  (1, 1)\n",
    "S.W--> South-West  (1, -1)\n",
    "'''\n",
    "move  =  [[-1, 0 ],\n",
    "          [ 1, 0 ], \n",
    "          [ 0, 1 ],\n",
    "          [ 0, -1],\n",
    "          [-1, 1],\n",
    "          [-1, -1],\n",
    "          [1, 1],\n",
    "          [1, -1]]\n",
    "\n",
    "path = A_star(maze, start, end, move, heuristic='manhattan')"
   ]
  },
  {
   "cell_type": "code",
   "execution_count": null,
   "metadata": {
    "colab": {
     "base_uri": "https://localhost:8080/",
     "height": 252
    },
    "id": "oL3FSrSi9jNF",
    "outputId": "fdb204c2-9ae2-4e26-db97-28f3b32d3109"
   },
   "outputs": [
    {
     "data": {
      "image/png": "[encoded data removed]",
      "text/plain": [
       "<Figure size 432x288 with 1 Axes>"
      ]
     },
     "metadata": {
      "tags": []
     },
     "output_type": "display_data"
    }
   ],
   "source": [
    "plot_maze(maze, start, end)"
   ]
  },
  {
   "cell_type": "markdown",
   "metadata": {
    "id": "FYPizcGp-mo4"
   },
   "source": [
    "![download.png](data:image/png;base64,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)"
   ]
  },
  {
   "cell_type": "code",
   "execution_count": null,
   "metadata": {
    "colab": {
     "base_uri": "https://localhost:8080/",
     "height": 252
    },
    "id": "TP6SIs1p9lcX",
    "outputId": "2296b648-944f-4210-cc1d-824ebc57ae82"
   },
   "outputs": [
    {
     "data": {
      "image/png": "[encoded data removed]",
      "text/plain": [
       "<Figure size 432x288 with 1 Axes>"
      ]
     },
     "metadata": {
      "tags": []
     },
     "output_type": "display_data"
    }
   ],
   "source": [
    "plot_path(maze, start, end, path)"
   ]
  }
 ],
 "metadata": {
  "colab": {
   "collapsed_sections": [],
   "name": "A* Algorithm.ipynb",
   "provenance": []
  },
  "kernelspec": {
   "display_name": "Python 3",
   "language": "python",
   "name": "python3"
  },
  "language_info": {
   "codemirror_mode": {
    "name": "ipython",
    "version": 3
   },
   "file_extension": ".py",
   "mimetype": "text/x-python",
   "name": "python",
   "nbconvert_exporter": "python",
   "pygments_lexer": "ipython3",
   "version": "3.8.8"
  }
 },
 "nbformat": 4,
 "nbformat_minor": 1
}
